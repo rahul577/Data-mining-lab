{
 "cells": [
  {
   "cell_type": "markdown",
   "metadata": {},
   "source": [
    "#Q1"
   ]
  },
  {
   "cell_type": "code",
   "execution_count": 46,
   "metadata": {},
   "outputs": [
    {
     "data": {
      "text/plain": [
       "25"
      ]
     },
     "execution_count": 46,
     "metadata": {},
     "output_type": "execute_result"
    }
   ],
   "source": [
    "10 + 15"
   ]
  },
  {
   "cell_type": "markdown",
   "metadata": {},
   "source": [
    "#Q2"
   ]
  },
  {
   "cell_type": "code",
   "execution_count": 47,
   "metadata": {},
   "outputs": [
    {
     "name": "stdout",
     "output_type": "stream",
     "text": [
      "Hello World\n"
     ]
    }
   ],
   "source": [
    "print(\"Hello World\")"
   ]
  },
  {
   "cell_type": "markdown",
   "metadata": {},
   "source": [
    "#Q3"
   ]
  },
  {
   "cell_type": "code",
   "execution_count": 48,
   "metadata": {},
   "outputs": [
    {
     "data": {
      "text/plain": [
       "11"
      ]
     },
     "execution_count": 48,
     "metadata": {},
     "output_type": "execute_result"
    }
   ],
   "source": [
    "45 - 34"
   ]
  },
  {
   "cell_type": "markdown",
   "metadata": {},
   "source": [
    "#Q4"
   ]
  },
  {
   "cell_type": "code",
   "execution_count": 49,
   "metadata": {},
   "outputs": [
    {
     "data": {
      "text/plain": [
       "16"
      ]
     },
     "execution_count": 49,
     "metadata": {},
     "output_type": "execute_result"
    }
   ],
   "source": [
    "8 * 2"
   ]
  },
  {
   "cell_type": "markdown",
   "metadata": {},
   "source": [
    "#Q5"
   ]
  },
  {
   "cell_type": "code",
   "execution_count": 50,
   "metadata": {},
   "outputs": [
    {
     "name": "stdout",
     "output_type": "stream",
     "text": [
      "Rahul's age is 45\n"
     ]
    }
   ],
   "source": [
    "print(\"Rahul's age is\", 45)"
   ]
  },
  {
   "cell_type": "markdown",
   "metadata": {},
   "source": [
    "#Q6"
   ]
  },
  {
   "cell_type": "code",
   "execution_count": 51,
   "metadata": {},
   "outputs": [
    {
     "name": "stdout",
     "output_type": "stream",
     "text": [
      "I have 10 mangoes and 12 bananas\n"
     ]
    }
   ],
   "source": [
    "print(\"I have\", 10, \"mangoes and\", 12, \"bananas\")"
   ]
  },
  {
   "cell_type": "markdown",
   "metadata": {},
   "source": [
    "#Q7"
   ]
  },
  {
   "cell_type": "code",
   "execution_count": 52,
   "metadata": {},
   "outputs": [
    {
     "name": "stdout",
     "output_type": "stream",
     "text": [
      "Employee Number: 1233\n",
      "Employee Salary and Name: 16745.5 Jerry Squaris\n",
      "Updated Employee Salary: 23450.34\n"
     ]
    }
   ],
   "source": [
    "emp_number = 1233\n",
    "print(\"Employee Number:\", emp_number)\n",
    "emp_salary = 16745.50\n",
    "emp_name = \"Jerry Squaris\"\n",
    "print(\"Employee Salary and Name:\", emp_salary, emp_name)\n",
    "emp_salary = 23450.34\n",
    "print(\"Updated Employee Salary:\", emp_salary)"
   ]
  },
  {
   "cell_type": "markdown",
   "metadata": {},
   "source": [
    "#Q8"
   ]
  },
  {
   "cell_type": "code",
   "execution_count": 53,
   "metadata": {},
   "outputs": [
    {
     "data": {
      "text/plain": [
       "int"
      ]
     },
     "execution_count": 53,
     "metadata": {},
     "output_type": "execute_result"
    }
   ],
   "source": [
    "customer_id = 101\n",
    "type(customer_id)"
   ]
  },
  {
   "cell_type": "code",
   "execution_count": 54,
   "metadata": {},
   "outputs": [
    {
     "data": {
      "text/plain": [
       "str"
      ]
     },
     "execution_count": 54,
     "metadata": {},
     "output_type": "execute_result"
    }
   ],
   "source": [
    "customer_name = \"John\"\n",
    "type(customer_name)"
   ]
  },
  {
   "cell_type": "code",
   "execution_count": 55,
   "metadata": {},
   "outputs": [
    {
     "data": {
      "text/plain": [
       "float"
      ]
     },
     "execution_count": 55,
     "metadata": {},
     "output_type": "execute_result"
    }
   ],
   "source": [
    "bill_amount = 675.45\n",
    "type(bill_amount)"
   ]
  },
  {
   "cell_type": "code",
   "execution_count": 56,
   "metadata": {},
   "outputs": [
    {
     "data": {
      "text/plain": [
       "complex"
      ]
     },
     "execution_count": 56,
     "metadata": {},
     "output_type": "execute_result"
    }
   ],
   "source": [
    "x = 5.3 + 0.9j\n",
    "type(x)"
   ]
  },
  {
   "cell_type": "code",
   "execution_count": 57,
   "metadata": {},
   "outputs": [
    {
     "name": "stdout",
     "output_type": "stream",
     "text": [
      "101 John 675.45\n"
     ]
    }
   ],
   "source": [
    "print(customer_id, customer_name, bill_amount)"
   ]
  },
  {
   "cell_type": "code",
   "execution_count": 58,
   "metadata": {},
   "outputs": [
    {
     "name": "stdout",
     "output_type": "stream",
     "text": [
      "5.3\n"
     ]
    }
   ],
   "source": [
    "print(x.real)"
   ]
  },
  {
   "cell_type": "raw",
   "metadata": {},
   "source": [
    "print(x.imag + 3)"
   ]
  },
  {
   "cell_type": "code",
   "execution_count": 59,
   "metadata": {},
   "outputs": [
    {
     "data": {
      "text/plain": [
       "bool"
      ]
     },
     "execution_count": 59,
     "metadata": {},
     "output_type": "execute_result"
    }
   ],
   "source": [
    "Flag = True\n",
    "type(Flag)"
   ]
  },
  {
   "cell_type": "code",
   "execution_count": 60,
   "metadata": {},
   "outputs": [
    {
     "data": {
      "text/plain": [
       "str"
      ]
     },
     "execution_count": 60,
     "metadata": {},
     "output_type": "execute_result"
    }
   ],
   "source": [
    "y = \"False\"\n",
    "type(y)"
   ]
  },
  {
   "cell_type": "markdown",
   "metadata": {},
   "source": [
    "#Q9"
   ]
  },
  {
   "cell_type": "code",
   "execution_count": 61,
   "metadata": {},
   "outputs": [
    {
     "name": "stdout",
     "output_type": "stream",
     "text": [
      "Input bill id - 101\n",
      "Input customer id - 1001\n",
      "Input customer name - Rahul\n",
      "Input whether minor or not - 0\n",
      "Input bill amount - 200.547\n",
      "Following are the customer details - \n",
      "Bill id -  101  Customer id -  1001  Customer Name -  Rahul  Minor -  True Bill Amount -  200.547\n"
     ]
    }
   ],
   "source": [
    "bill_id = int(input(\"Input bill id - \"))\n",
    "customer_id = int(input(\"Input customer id - \"))\n",
    "customer_name = input(\"Input customer name - \")\n",
    "if_minor = bool(input(\"Input whether minor or not - \"))\n",
    "bill_amount = float(input(\"Input bill amount - \"))\n",
    "print(\"Following are the customer details - \")\n",
    "print(\"Bill id - \", bill_id, \" Customer id - \", customer_id, \" Customer Name - \", customer_name, \" Minor - \", if_minor, \"Bill Amount - \", bill_amount)"
   ]
  },
  {
   "cell_type": "markdown",
   "metadata": {},
   "source": [
    "#Q10"
   ]
  },
  {
   "cell_type": "code",
   "execution_count": 64,
   "metadata": {},
   "outputs": [
    {
     "name": "stdout",
     "output_type": "stream",
     "text": [
      "Input two values num1 and num2 - \n",
      "Input value of num1 - 45\n",
      "Input value of num2 - 78\n",
      "Sum of new values of num1 and num2 =  133\n"
     ]
    }
   ],
   "source": [
    "print(\"Input two values num1 and num2 - \")\n",
    "num1 = int(input(\"Input value of num1 - \"))\n",
    "num2 = int(input(\"Input value of num2 - \"))\n",
    "num1 += 4\n",
    "num2 += 6\n",
    "print(\"Sum of new values of num1 and num2 = \", num1 + num2)"
   ]
  },
  {
   "cell_type": "markdown",
   "metadata": {},
   "source": [
    "#Q11"
   ]
  },
  {
   "cell_type": "code",
   "execution_count": 65,
   "metadata": {},
   "outputs": [
    {
     "name": "stdout",
     "output_type": "stream",
     "text": [
      "Before swapping - \n",
      "a =  4  b =  5\n",
      "After swapping - \n",
      "a =  5  b =  4\n"
     ]
    }
   ],
   "source": [
    "a = 4\n",
    "b = 5\n",
    "print(\"Before swapping - \")\n",
    "print(\"a = \", a, \" b = \", b)\n",
    "a = a + b\n",
    "b = a - b\n",
    "a = a - b\n",
    "print(\"After swapping - \")\n",
    "print(\"a = \", a, \" b = \", b)"
   ]
  },
  {
   "cell_type": "markdown",
   "metadata": {},
   "source": [
    "#Q12"
   ]
  },
  {
   "cell_type": "code",
   "execution_count": 67,
   "metadata": {},
   "outputs": [
    {
     "name": "stdout",
     "output_type": "stream",
     "text": [
      "Input marks of John - \n",
      "Input marks in subject 1 - 50\n",
      "Input marks in subject 2 - 60\n",
      "Input marks in subject 3 - 70\n",
      "Average marks of John -  60.0\n",
      "Average marks after changing marks of subject 1 -  60.0\n"
     ]
    }
   ],
   "source": [
    "print(\"Input marks of John - \") \n",
    "marks1 = int(input(\"Input marks in subject 1 - \")) \n",
    "marks2 = int(input(\"Input marks in subject 2 - \")) \n",
    "marks3 = int(input(\"Input marks in subject 3 - \")) \n",
    "avg_marks = (marks1 + marks2 + marks3) / 3 \n",
    "print(\"Average marks of John - \", avg_marks) \n",
    "marks1 += 10 \n",
    "print(\"Average marks after changing marks of subject 1 - \", avg_marks)"
   ]
  },
  {
   "cell_type": "markdown",
   "metadata": {},
   "source": [
    "#Q13"
   ]
  },
  {
   "cell_type": "code",
   "execution_count": 68,
   "metadata": {},
   "outputs": [
    {
     "name": "stdout",
     "output_type": "stream",
     "text": [
      "Input radius of circle - 5\n",
      "Area of the circle -  78.5\n",
      "Perimeter of the circle -  31.400000000000002\n"
     ]
    }
   ],
   "source": [
    "rad = int(input(\"Input radius of circle - \"))\n",
    "area = 3.14 * rad * rad\n",
    "perimeter = 2 * 3.14 * rad\n",
    "print(\"Area of the circle - \", area)\n",
    "print(\"Perimeter of the circle - \", perimeter)"
   ]
  },
  {
   "cell_type": "markdown",
   "metadata": {},
   "source": [
    "#Q14"
   ]
  },
  {
   "cell_type": "code",
   "execution_count": 69,
   "metadata": {},
   "outputs": [
    {
     "name": "stdout",
     "output_type": "stream",
     "text": [
      "Number of hours worked per week -  40\n",
      "Pay Rate per hour -  400\n",
      "No. of weeks in a month -  4\n",
      "Total monthly pay of the employee -  64000\n"
     ]
    }
   ],
   "source": [
    "def monthly_pay(hours, pay_rate, weeks):\n",
    "    pay = hours * pay_rate * weeks\n",
    "    print(\"Number of hours worked per week - \", hours)\n",
    "    print(\"Pay Rate per hour - \", pay_rate)\n",
    "    print(\"No. of weeks in a month - \", weeks)\n",
    "    print(\"Total monthly pay of the employee - \", pay)\n",
    "monthly_pay(40, 400, 4)    "
   ]
  },
  {
   "cell_type": "markdown",
   "metadata": {},
   "source": [
    "#Q15 a"
   ]
  },
  {
   "cell_type": "code",
   "execution_count": 70,
   "metadata": {},
   "outputs": [
    {
     "name": "stdout",
     "output_type": "stream",
     "text": [
      "50\n",
      "52\n",
      "54\n",
      "56\n",
      "58\n",
      "60\n",
      "62\n",
      "64\n",
      "66\n",
      "68\n",
      "70\n",
      "72\n",
      "74\n",
      "76\n",
      "78\n",
      "80\n"
     ]
    }
   ],
   "source": [
    "for x in range(50, 80+1):\n",
    "    if x % 2 == 0:\n",
    "        print(x)"
   ]
  },
  {
   "cell_type": "markdown",
   "metadata": {},
   "source": [
    "#Q15 b"
   ]
  },
  {
   "cell_type": "code",
   "execution_count": 71,
   "metadata": {},
   "outputs": [
    {
     "name": "stdout",
     "output_type": "stream",
     "text": [
      "Input value of n - 54\n",
      "Sum of first  54  natural numbers -  1485.0\n"
     ]
    }
   ],
   "source": [
    "def sum_n(n):\n",
    "    sum = (n * (n+1)) / 2\n",
    "    print(\"Sum of first \", n, \" natural numbers - \", sum)\n",
    "sum_n(int(input(\"Input value of n - \")))"
   ]
  },
  {
   "cell_type": "markdown",
   "metadata": {},
   "source": [
    "#Q15 c"
   ]
  },
  {
   "cell_type": "code",
   "execution_count": 72,
   "metadata": {},
   "outputs": [
    {
     "name": "stdout",
     "output_type": "stream",
     "text": [
      "Input a number to check whether it is prime or not - 79\n",
      "Given number is prime\n"
     ]
    }
   ],
   "source": [
    "def prime(n):\n",
    "    flag = True\n",
    "    for x in range(2, int(n/2)):\n",
    "        if n % x == 0:\n",
    "            flag = False\n",
    "            break\n",
    "    if flag == True:\n",
    "        print(\"Given number is prime\")\n",
    "    else:\n",
    "        print(\"Given number is not prime\")\n",
    "prime(int(input(\"Input a number to check whether it is prime or not - \")))"
   ]
  },
  {
   "cell_type": "markdown",
   "metadata": {},
   "source": [
    "#Q15 d"
   ]
  },
  {
   "cell_type": "code",
   "execution_count": 73,
   "metadata": {},
   "outputs": [
    {
     "name": "stdout",
     "output_type": "stream",
     "text": [
      "Input Number of elements in fibonacci series - 6\n",
      "0\n",
      "1\n",
      "1\n",
      "2\n",
      "3\n",
      "5\n"
     ]
    }
   ],
   "source": [
    "def fibonacci(n):\n",
    "    first = 0\n",
    "    second = 1\n",
    "    print(first)\n",
    "    print(second)\n",
    "    for x in range(1, n-1):\n",
    "        second = first + second\n",
    "        first = second - first\n",
    "        print(second)\n",
    "fibonacci(int(input(\"Input Number of elements in fibonacci series - \")))"
   ]
  }
 ],
 "metadata": {
  "kernelspec": {
   "display_name": "Python 3",
   "language": "python",
   "name": "python3"
  },
  "language_info": {
   "codemirror_mode": {
    "name": "ipython",
    "version": 3
   },
   "file_extension": ".py",
   "mimetype": "text/x-python",
   "name": "python",
   "nbconvert_exporter": "python",
   "pygments_lexer": "ipython3",
   "version": "3.6.7"
  }
 },
 "nbformat": 4,
 "nbformat_minor": 2
}
