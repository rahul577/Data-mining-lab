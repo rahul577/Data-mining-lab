{
 "cells": [
  {
   "cell_type": "markdown",
   "metadata": {},
   "source": [
    "#Q1 Make a word scrambler program to scramble every word in the file. Scrambling the word means \"keeping first and last letter intact and scramble all other letters randomly\". For example, if following is written in file: \" This is a  new word scrambler program. \" Then this will be changed to : \"Tihs is a wrod srcelabmr pograrm.\" Punctuation marks won't change their position."
   ]
  },
  {
   "cell_type": "code",
   "execution_count": 2,
   "metadata": {},
   "outputs": [
    {
     "name": "stdout",
     "output_type": "stream",
     "text": [
      "Input a string - This is a  new word scrambler program. \n",
      "This is a  new wrod sacmbrelr prrgoam. \n",
      "Input a string - Punctuation marks won't change their position\n",
      "Paottniucun mraks won't cganhe thier poisoitn\n"
     ]
    }
   ],
   "source": [
    "from random import randint\n",
    "\n",
    "def scramble( str ):\n",
    "    r = len(str) - 1\n",
    "    temp = ''\n",
    "    if ( str[r] < 'a' or str[r] > 'z' ) and ( str[r] < 'A' or str[r] > 'Z' ):\n",
    "        temp = str[len(str) - 1]\n",
    "        str = str[0 : len(str) - 1]\n",
    "    l = 0\n",
    "    r = 0\n",
    "    while r < len(str) :\n",
    "        if( ( str[r] >= 'a' and str[r] <= 'z' ) or ( str[r] >= 'A' and str[r] <= 'Z' ) ):\n",
    "            r += 1\n",
    "        else:\n",
    "            return str\n",
    "    r -= 1\n",
    "    if len(str) <= 3:\n",
    "        return str\n",
    "    else:\n",
    "        str = list(str)\n",
    "        l += 1\n",
    "        while l < r:\n",
    "            x = randint(l, r - 1)\n",
    "            str[l], str[x] = str[x], str[l]\n",
    "            l += 1\n",
    "        str = ''.join(str)\n",
    "        return str + temp\n",
    "    \n",
    "for i in range(0, 2):\n",
    "    str = input(\"Input a string - \")\n",
    "    l = 0\n",
    "    r = 0\n",
    "    ans = ''\n",
    "    while l < len(str):\n",
    "        while r < len(str) and str[r] != ' ':\n",
    "            r += 1\n",
    "        ans += scramble(str[l:r])\n",
    "        while r < len(str) and str[r] == ' ':\n",
    "            ans += str[r]\n",
    "            r += 1\n",
    "        l = r\n",
    "    print(ans)\n",
    "    "
   ]
  }
 ],
 "metadata": {
  "kernelspec": {
   "display_name": "Python 3",
   "language": "python",
   "name": "python3"
  },
  "language_info": {
   "codemirror_mode": {
    "name": "ipython",
    "version": 3
   },
   "file_extension": ".py",
   "mimetype": "text/x-python",
   "name": "python",
   "nbconvert_exporter": "python",
   "pygments_lexer": "ipython3",
   "version": "3.6.7"
  }
 },
 "nbformat": 4,
 "nbformat_minor": 2
}
