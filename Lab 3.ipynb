{
 "cells": [
  {
   "cell_type": "markdown",
   "metadata": {},
   "source": [
    "#Q1 You are required to write a program to sort the (name, age, height) tuples by ascending order where name is string, age and height are numbers. The tuples are input by console. The sort criteria is: 1: Sort based on name; 2: Then sort based on age; 3: Then sort by score. The priority is that name > age > score.\n",
    "If the following tuples are given as input to the program:\n",
    "Tom,19,80\n",
    "John,20,90\n",
    "Jony,17,91\n",
    "Jony,17,93\n",
    "Json,21,85\n",
    "Then, the output of the program should be:\n",
    "[('John', '20', '90'), ('Jony', '17', '91'), ('Jony', '17', '93'), ('Json', '21', '85'), ('Tom', '19', '80')]\n",
    "Hints:\n",
    "In case of input data being supplied to the question, it should be assumed to be a console input.\n",
    "We use item getter to enable multiple sort keys."
   ]
  },
  {
   "cell_type": "code",
   "execution_count": 19,
   "metadata": {},
   "outputs": [
    {
     "name": "stdout",
     "output_type": "stream",
     "text": [
      "Input number of enteries - 5\n",
      "Enter details - Tom,19,80\n",
      "Enter details - John,20,90\n",
      "Enter details - John,17,91\n",
      "Enter details - John,17,93\n",
      "Enter details - Json,21,85\n",
      "[('Tom', 19, 80), ('John', 20, 90), ('John', 17, 91), ('John', 17, 93), ('Json', 21, 85)]\n",
      "[('John', 17, 91), ('John', 17, 93), ('John', 20, 90), ('Json', 21, 85), ('Tom', 19, 80)]\n"
     ]
    }
   ],
   "source": [
    "def sort_list(L): \n",
    "    L = sorted(L, key = lambda x: (x[0], x[1], x[2]))\n",
    "    return L\n",
    "    \n",
    "n = int(input(\"Input number of enteries - \")) \n",
    "L = [] \n",
    "for i in range(n): \n",
    "    item = []\n",
    "    item = input(\"Enter details - \").split(',')\n",
    "    item[1], item[2] = int(item[1]), int(item[2])\n",
    "    item = tuple(item)\n",
    "    L.append(item)\n",
    "\n",
    "print(L)\n",
    "L = sort_list(L)\n",
    "print(L)"
   ]
  },
  {
   "cell_type": "markdown",
   "metadata": {},
   "source": [
    "#Q2 Write a Python program to find the list in a list of lists whose sum of elements is the highest. \n",
    "Sample lists: [1,2,3], [4,5,6], [10,11,12], [7,8,9]\n",
    "Expected Output: [10, 11, 12]"
   ]
  },
  {
   "cell_type": "code",
   "execution_count": 28,
   "metadata": {},
   "outputs": [
    {
     "name": "stdout",
     "output_type": "stream",
     "text": [
      "Input number of enteries - 4\n",
      "Input list items - 1,2,3\n",
      "Input list items - 4,5,6\n",
      "Input list items - 10,11,12\n",
      "Input list items - 7,8,9\n",
      "Sub List with maximum sum - \n",
      "[10, 11, 12]\n"
     ]
    }
   ],
   "source": [
    "def get_max(L):\n",
    "    val = 0\n",
    "    max_idx = 0\n",
    "    for idx, item in enumerate(L):\n",
    "        if sum(item) > val:\n",
    "            val = sum(item)\n",
    "            max_idx = idx\n",
    "    print(\"Sub List with maximum sum - \")\n",
    "    print(L[max_idx])\n",
    "\n",
    "n = int(input(\"Input number of enteries - \"))\n",
    "L = []\n",
    "for i in range(n):\n",
    "    subList = input(\"Input list items - \").split(',')\n",
    "    for i in range(len(subList)):\n",
    "        subList[i] = int(subList[i])\n",
    "    L.append(subList)\n",
    "get_max(L)"
   ]
  },
  {
   "cell_type": "markdown",
   "metadata": {},
   "source": [
    "#Q3 Write a Python program to check whether a list contains a sublist."
   ]
  },
  {
   "cell_type": "code",
   "execution_count": 2,
   "metadata": {},
   "outputs": [
    {
     "name": "stdout",
     "output_type": "stream",
     "text": [
      "List contains the sublist.\n"
     ]
    }
   ],
   "source": [
    "def check_sub(L, sub):\n",
    "    flag = False\n",
    "    for item in L:\n",
    "        if type(item) == list:\n",
    "            if item == sub:\n",
    "                print(\"List contains the sublist.\")\n",
    "                flag = True\n",
    "                return flag\n",
    "            else:\n",
    "                flag = flag or check_sub(item, sub)\n",
    "    return flag\n",
    "\n",
    "if(check_sub([[[[3,[1, 2]]]]], [1, 2]) == False):\n",
    "    print(\"List does not contain the sublist.\")"
   ]
  }
 ],
 "metadata": {
  "kernelspec": {
   "display_name": "Python 3",
   "language": "python",
   "name": "python3"
  },
  "language_info": {
   "codemirror_mode": {
    "name": "ipython",
    "version": 3
   },
   "file_extension": ".py",
   "mimetype": "text/x-python",
   "name": "python",
   "nbconvert_exporter": "python",
   "pygments_lexer": "ipython3",
   "version": "3.6.7"
  }
 },
 "nbformat": 4,
 "nbformat_minor": 2
}
