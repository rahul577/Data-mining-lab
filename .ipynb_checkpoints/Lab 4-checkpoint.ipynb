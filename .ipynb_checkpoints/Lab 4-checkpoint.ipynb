{
 "cells": [
  {
   "cell_type": "markdown",
   "metadata": {},
   "source": [
    "#Q1 Calculate Word Frequencies. Take a set of sentences in a string as an input. Count each unique occurrence of a word and calculate frequency of occurrence and store in a dictionary. Produce a frequency table.\n"
   ]
  },
  {
   "cell_type": "code",
   "execution_count": 1,
   "metadata": {},
   "outputs": [
    {
     "name": "stdout",
     "output_type": "stream",
     "text": [
      "Input a string - ewq ewq dsa we\n",
      "{'ewq': 2, 'dsa': 1, 'we': 1}\n"
     ]
    }
   ],
   "source": [
    "inp = input(\"Input a string - \")\n",
    "str_list = []\n",
    "str_list = inp.split(' ')\n",
    "d = dict()\n",
    "for i in str_list:\n",
    "    if i in d.keys():\n",
    "        d[i] = d[i] + 1;\n",
    "    else:\n",
    "        d[i] = 1\n",
    "print(d)"
   ]
  },
  {
   "cell_type": "markdown",
   "metadata": {},
   "source": [
    "#Q2 Result Calculation. Create a dictionary and a list like following.\n",
    "\n",
    "Student = { 'UE183001': 'Avish', 'UE183002': 'Bhavya', 'UE183003': 'Tanya' } Add atleast 10 students Marks = [('UE183001', 'CS', 94 ), ('UE183002', 'CS', 64 ), ('UE183001', 'RV', 94), ('UE183002', 'CS', 74), ('UE183003', 'CS', 64)] Add some more values Find total marks of each students and display full name of student with total marks secured. This is the basic relational database join algorithm between two tables.\n"
   ]
  },
  {
   "cell_type": "code",
   "execution_count": 7,
   "metadata": {},
   "outputs": [
    {
     "name": "stdout",
     "output_type": "stream",
     "text": [
      "{'Avish': 198, 'Bhavya': 178, 'Tanya': 214, 'Rajat': 211, 'Ojasvi': 205, 'Nikhil': 224, 'Naman': 260, 'Rehan': 282, 'Prashant': 246, 'Rohit': 196, 'Vishal': 240, 'Vaibhav': 233}\n"
     ]
    }
   ],
   "source": [
    "from random import randint\n",
    "\n",
    "Student = { 'UE183001': 'Avish', 'UE183002': 'Bhavya', 'UE183003': 'Tanya', 'UE183004' : 'Rajat', 'UE183005' : 'Ojasvi',\n",
    "          'UE183006' : 'Nikhil', 'UE183007' : 'Naman', 'UE183008' : 'Rehan', 'UE183009' : 'Prashant', 'UE183010' : 'Rohit',\n",
    "          'UE183011' : 'Ojasvi', 'UE183012' : 'Vishal', 'UE183013' : 'Vaibhav'}\n",
    "\n",
    "Marks = []\n",
    "\n",
    "for i in range(1, 14):\n",
    "    if i < 10:\n",
    "        roll = 'UE18300' + str(i)\n",
    "    else:\n",
    "        roll = 'UE1830' + str(i)\n",
    "    sub = 'CS'\n",
    "    marks = randint(50, 100)\n",
    "    Marks = Marks + [[roll, sub, marks]]\n",
    "    sub = 'RV'\n",
    "    marks = randint(50, 100)\n",
    "    Marks = Marks + [[roll, sub, marks]]\n",
    "    sub = 'IP'\n",
    "    marks = randint(50, 100)\n",
    "    Marks = Marks + [[roll, sub, marks]]\n",
    "\n",
    "total_marks = dict()\n",
    "for i in Marks:\n",
    "    if i[0] in total_marks.keys():\n",
    "        total_marks[i[0]] = total_marks[i[0]] + i[2]\n",
    "    else:\n",
    "        total_marks[i[0]] = i[2]\n",
    "        \n",
    "name_marks = dict()\n",
    "for i in Student:\n",
    "    if i in total_marks.keys():\n",
    "        name_marks[Student[i]] = total_marks[i]\n",
    "    else:\n",
    "        name_marks[Student[i]] = 0\n",
    "print(name_marks)"
   ]
  },
  {
   "cell_type": "markdown",
   "metadata": {},
   "source": [
    "#Q3 A date of the form 8-MAR-85 includes the name of the month, which must be translated to a number. Create a dict suitable for decoding month names to numbers. Create a function which uses string operations to split the date into 3 items using the \"-\" character. Translate the month, correct the year to include all of the digits.\n",
    "The function will accept a date in the \"dd-MMM-yy\" format and respond with a tuple of ( y , m , d )."
   ]
  },
  {
   "cell_type": "code",
   "execution_count": 12,
   "metadata": {},
   "outputs": [
    {
     "name": "stdout",
     "output_type": "stream",
     "text": [
      "(1985, 'MARCH', 8)\n"
     ]
    }
   ],
   "source": [
    "def date_tuple(date):\n",
    "    month = dict()\n",
    "    month['JAN'] = 'JANUARY'\n",
    "    month['FEB'] = 'FEBRUARY'\n",
    "    month['MAR'] = 'MARCH'\n",
    "    month['APR'] = 'APRIL'\n",
    "    month['MAY'] = 'MAY'\n",
    "    month['JUN'] = 'JUNE'\n",
    "    month['JUL'] = 'JULY'\n",
    "    month['AUG'] = 'AUGUST'\n",
    "    month['SEP'] = 'SEPTEMBER'\n",
    "    month['OCT'] = 'OCTOBER'\n",
    "    month['NOV'] = 'NOVEMBER'\n",
    "    month['DEC'] = 'DECEMBER'\n",
    "    date_list = date.split('-')\n",
    "    y = int(date_list[2])\n",
    "    if y <= 19:\n",
    "        y = 2000 + y\n",
    "    else:\n",
    "        y = 1900 + y\n",
    "    m = month[date_list[1]]\n",
    "    d = int(date_list[0])\n",
    "    return (y, m, d)\n",
    "print(date_tuple('8-MAR-85'))"
   ]
  },
  {
   "cell_type": "markdown",
   "metadata": {},
   "source": [
    "#Q4 Dice Odds. There are 36 possible combinations of two dice. A sim→ple pair of loops over range(6)+1 will enumerate all combinations. The sum of the two dice is more interesting than the actual combination. Create a dict of all combinations, using the sum of the two dice as the key. Each value in the dict should be a list of tuples; each tuple has the value of two dice. The general outline is something like the following:\n",
    "d= {}\n",
    "Loop with d1 from 1 to 6\n",
    "    Loop with d2 from 1 to 6\n",
    "        newTuple ← ( d1, d2 ) # create the tuple\n",
    "        oldList ← dictionary entry for sum d1+d2\n",
    "        newList ← oldList + newTuple\n",
    "        replace entry in dictionary with newList\n",
    "Loop over all values in the dictionary\n",
    "print the key and the length of the list"
   ]
  },
  {
   "cell_type": "code",
   "execution_count": 15,
   "metadata": {},
   "outputs": [
    {
     "name": "stdout",
     "output_type": "stream",
     "text": [
      "2    1\n",
      "3    2\n",
      "4    3\n",
      "5    4\n",
      "6    5\n",
      "7    6\n",
      "8    5\n",
      "9    4\n",
      "10    3\n",
      "11    2\n",
      "12    1\n"
     ]
    }
   ],
   "source": [
    "d = {}\n",
    "for i in range(1, 7):\n",
    "    for j in range(1, 7):\n",
    "        s = i + j\n",
    "        if s in d.keys():\n",
    "            d[s] = d[s] + [(i, j)]\n",
    "        else:\n",
    "            d[s] = [(i, j)]\n",
    "for i in d:\n",
    "    print(i, '  ', len(d[i]))"
   ]
  }
 ],
 "metadata": {
  "kernelspec": {
   "display_name": "Python 3",
   "language": "python",
   "name": "python3"
  },
  "language_info": {
   "codemirror_mode": {
    "name": "ipython",
    "version": 3
   },
   "file_extension": ".py",
   "mimetype": "text/x-python",
   "name": "python",
   "nbconvert_exporter": "python",
   "pygments_lexer": "ipython3",
   "version": "3.6.7"
  }
 },
 "nbformat": 4,
 "nbformat_minor": 2
}
