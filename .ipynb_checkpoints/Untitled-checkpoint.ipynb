{
 "cells": [
  {
   "cell_type": "markdown",
   "metadata": {},
   "source": [
    "#Q1 Calculate Word Frequencies. Take a set of sentences in a string as an input. Count each unique occurrence of a word and calculate frequency of occurrence and store in a dictionary. Produce a frequency table."
   ]
  },
  {
   "cell_type": "code",
   "execution_count": 31,
   "metadata": {},
   "outputs": [
    {
     "name": "stdout",
     "output_type": "stream",
     "text": [
      "Input a string - eqw dsa eqw fds eqw\n",
      "{'eqw': 3, 'dsa': 1, 'fds': 1}\n"
     ]
    }
   ],
   "source": [
    "inp = input(\"Input a string - \")\n",
    "str_list = []\n",
    "str_list = inp.split(' ')\n",
    "d = dict()\n",
    "for i in str_list:\n",
    "    if i in d.keys():\n",
    "        d[i] = d[i] + 1;\n",
    "    else:\n",
    "        d[i] = 1\n",
    "print(d)"
   ]
  },
  {
   "cell_type": "markdown",
   "metadata": {},
   "source": [
    "#Q2 Result Calculation. Create a dictionary and a list like following.\n",
    "\n",
    "Student = { 'UE183001': 'Avish', 'UE183002': 'Bhavya', 'UE183003': 'Tanya' } Add atleast 10 students\n",
    "Marks = [('UE183001', 'CS', 94 ), ('UE183002', 'CS', 64 ), ('UE183001', 'RV', 94), ('UE183002', 'CS', 74), \n",
    "  ('UE183003', 'CS', 64)] Add some more values\n",
    "Find total marks of each students and display full name of student with total marks secured. This is the basic relational database join algorithm between two tables.\n"
   ]
  },
  {
   "cell_type": "code",
   "execution_count": 34,
   "metadata": {},
   "outputs": [
    {
     "name": "stdout",
     "output_type": "stream",
     "text": [
      "['UE183001', 'CS', 81, 'UE183001', 'RV', 63, 'UE183001', 'IP', 92, 'UE183001', 'CS', 84, 'UE183001', 'RV', 96, 'UE183001', 'IP', 99, 'UE183001', 'CS', 74, 'UE183001', 'RV', 97, 'UE183001', 'IP', 69, 'UE183001', 'CS', 83, 'UE183001', 'RV', 83, 'UE183001', 'IP', 52, 'UE183001', 'CS', 54, 'UE183001', 'RV', 59, 'UE183001', 'IP', 89, 'UE183001', 'CS', 55, 'UE183001', 'RV', 69, 'UE183001', 'IP', 66, 'UE183001', 'CS', 78, 'UE183001', 'RV', 83, 'UE183001', 'IP', 77, 'UE183001', 'CS', 60, 'UE183001', 'RV', 62, 'UE183001', 'IP', 64, 'UE183001', 'CS', 62, 'UE183001', 'RV', 64, 'UE183001', 'IP', 87]\n"
     ]
    },
    {
     "ename": "IndexError",
     "evalue": "string index out of range",
     "output_type": "error",
     "traceback": [
      "\u001b[0;31m---------------------------------------------------------------------------\u001b[0m",
      "\u001b[0;31mIndexError\u001b[0m                                Traceback (most recent call last)",
      "\u001b[0;32m<ipython-input-34-ce8caf9211f6>\u001b[0m in \u001b[0;36m<module>\u001b[0;34m\u001b[0m\n\u001b[1;32m     30\u001b[0m         \u001b[0mtotal_marks\u001b[0m\u001b[0;34m[\u001b[0m\u001b[0mi\u001b[0m\u001b[0;34m[\u001b[0m\u001b[0;36m0\u001b[0m\u001b[0;34m]\u001b[0m\u001b[0;34m]\u001b[0m \u001b[0;34m=\u001b[0m \u001b[0mtotal_marks\u001b[0m\u001b[0;34m[\u001b[0m\u001b[0mi\u001b[0m\u001b[0;34m[\u001b[0m\u001b[0;36m0\u001b[0m\u001b[0;34m]\u001b[0m\u001b[0;34m]\u001b[0m \u001b[0;34m+\u001b[0m \u001b[0mi\u001b[0m\u001b[0;34m[\u001b[0m\u001b[0;36m2\u001b[0m\u001b[0;34m]\u001b[0m\u001b[0;34m\u001b[0m\u001b[0;34m\u001b[0m\u001b[0m\n\u001b[1;32m     31\u001b[0m     \u001b[0;32melse\u001b[0m\u001b[0;34m:\u001b[0m\u001b[0;34m\u001b[0m\u001b[0;34m\u001b[0m\u001b[0m\n\u001b[0;32m---> 32\u001b[0;31m         \u001b[0mtotal_marks\u001b[0m\u001b[0;34m[\u001b[0m\u001b[0mi\u001b[0m\u001b[0;34m[\u001b[0m\u001b[0;36m0\u001b[0m\u001b[0;34m]\u001b[0m\u001b[0;34m]\u001b[0m \u001b[0;34m=\u001b[0m \u001b[0mi\u001b[0m\u001b[0;34m[\u001b[0m\u001b[0;36m2\u001b[0m\u001b[0;34m]\u001b[0m\u001b[0;34m\u001b[0m\u001b[0;34m\u001b[0m\u001b[0m\n\u001b[0m\u001b[1;32m     33\u001b[0m \u001b[0;34m\u001b[0m\u001b[0m\n\u001b[1;32m     34\u001b[0m \u001b[0mprint\u001b[0m\u001b[0;34m(\u001b[0m\u001b[0mStudent\u001b[0m\u001b[0;34m)\u001b[0m\u001b[0;34m\u001b[0m\u001b[0;34m\u001b[0m\u001b[0m\n",
      "\u001b[0;31mIndexError\u001b[0m: string index out of range"
     ]
    }
   ],
   "source": [
    "from random import randint\n",
    "\n",
    "Student = { 'UE183001': 'Avish', 'UE183002': 'Bhavya', 'UE183003': 'Tanya', 'UE183004' : 'Rajat', 'UE183005' : 'Ojasvi',\n",
    "          'UE183006' : 'Nikhil', 'UE183007' : 'Naman', 'UE183008' : 'Rehan', 'UE183009' : 'Prashant', 'UE183010' : 'Rohit'}\n",
    "#Marks = [('UE183001', 'CS', 94 ), ('UE183002', 'CS', 64 ), ('UE183001', 'RV', 94), ('UE183002', 'RV', 74), \n",
    "#  ('UE183001', 'IP', 64), ('UE183002', 'IP', 84)]\n",
    "\n",
    "Marks = []\n",
    "\n",
    "for i in range(1, 10):\n",
    "    if i < 10:\n",
    "        roll = 'UE18300' + '1'\n",
    "    else:\n",
    "        roll = 'UE1830' + '10'\n",
    "    sub = 'CS'\n",
    "    marks = randint(50, 100)\n",
    "    Marks = Marks + [roll, sub, marks]\n",
    "    sub = 'RV'\n",
    "    marks = randint(50, 100)\n",
    "    Marks = Marks + [roll, sub, marks]\n",
    "    sub = 'IP'\n",
    "    marks = randint(50, 100)\n",
    "    Marks = Marks + [roll, sub, marks]\n",
    "    \n",
    "print(Marks)\n",
    "\n",
    "total_marks = dict()\n",
    "for i in Marks:\n",
    "    if i[0] in total_marks.keys():\n",
    "        total_marks[i[0]] = total_marks[i[0]] + i[2]\n",
    "    else:\n",
    "        total_marks[i[0]] = i[2]\n",
    "        \n",
    "print(Student)\n",
    "for i in Student:\n",
    "    if i in total_marks.keys():\n",
    "        name_marks[Student[i]] = total_marks[i]\n",
    "    else:\n",
    "        name_marks[Student[i]] = 0\n",
    "print(name_marks)"
   ]
  }
 ],
 "metadata": {
  "kernelspec": {
   "display_name": "Python 3",
   "language": "python",
   "name": "python3"
  },
  "language_info": {
   "codemirror_mode": {
    "name": "ipython",
    "version": 3
   },
   "file_extension": ".py",
   "mimetype": "text/x-python",
   "name": "python",
   "nbconvert_exporter": "python",
   "pygments_lexer": "ipython3",
   "version": "3.6.7"
  }
 },
 "nbformat": 4,
 "nbformat_minor": 2
}
