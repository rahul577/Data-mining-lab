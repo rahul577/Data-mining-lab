{
 "cells": [
  {
   "cell_type": "markdown",
   "metadata": {},
   "source": [
    "#Q1 Calculate Word Frequencies. Take a set of sentences in a string as an input. Count each unique occurrence of a word and calculate frequency of occurrence and store in a dictionary. Produce a frequency table.\n"
   ]
  },
  {
   "cell_type": "code",
   "execution_count": 13,
   "metadata": {},
   "outputs": [
    {
     "name": "stdout",
     "output_type": "stream",
     "text": [
      "Input a string - cs, mech, mech, ece, ece, eee.\n",
      "{'cs': 1, 'mech': 2, 'ece': 2, 'eee': 1}\n"
     ]
    }
   ],
   "source": [
    "inp = input(\"Input a string - \")\n",
    "str_list = []\n",
    "\n",
    "l = 0\n",
    "r = 0\n",
    "while l < len(inp):\n",
    "    while r < len(inp) and (( inp[r] >= 'a' and inp[r] <= 'z' ) or ( inp[r] >= 'A' and inp[r] <= 'Z' )):\n",
    "        r += 1\n",
    "    str_list += [inp[l:r]]\n",
    "    while r < len(inp) and ( inp[r] < 'a' or inp[r] > 'z' ) and ( inp[r] < 'A' or inp[r] > 'Z' ):\n",
    "        r += 1\n",
    "    l = r\n",
    "\n",
    "d = dict()\n",
    "for i in str_list:\n",
    "    if i in d.keys():\n",
    "        d[i] = d[i] + 1;\n",
    "    else:\n",
    "        d[i] = 1\n",
    "print(d)"
   ]
  },
  {
   "cell_type": "markdown",
   "metadata": {},
   "source": [
    "#Q2 Result Calculation. Create a dictionary and a list like following.\n",
    "\n",
    "Student = { 'UE183001': 'Avish', 'UE183002': 'Bhavya', 'UE183003': 'Tanya' } Add atleast 10 students Marks = [('UE183001', 'CS', 94 ), ('UE183002', 'CS', 64 ), ('UE183001', 'RV', 94), ('UE183002', 'CS', 74), ('UE183003', 'CS', 64)] Add some more values Find total marks of each students and display full name of student with total marks secured. This is the basic relational database join algorithm between two tables.\n"
   ]
  },
  {
   "cell_type": "code",
   "execution_count": 18,
   "metadata": {},
   "outputs": [
    {
     "name": "stdout",
     "output_type": "stream",
     "text": [
      "Input marks of UE183001 for CS -89\n",
      "Input marks of UE183001 for RV -45\n",
      "Input marks of UE183001 for IP -89\n",
      "Input marks of UE183002 for CS -68\n",
      "Input marks of UE183002 for RV -45\n",
      "Input marks of UE183002 for IP -75\n",
      "Input marks of UE183003 for CS -86\n",
      "Input marks of UE183003 for RV -74\n",
      "Input marks of UE183003 for IP -85\n",
      "Input marks of UE183004 for CS -82\n",
      "Input marks of UE183004 for RV -83\n",
      "Input marks of UE183004 for IP -86\n",
      "Input marks of UE183005 for CS -84\n",
      "Input marks of UE183005 for RV -75\n",
      "Input marks of UE183005 for IP -86\n",
      "Input marks of UE183006 for CS -84\n",
      "Input marks of UE183006 for RV -87\n",
      "Input marks of UE183006 for IP -85\n",
      "Input marks of UE183007 for CS -8\n",
      "Input marks of UE183007 for RV -89\n",
      "Input marks of UE183007 for IP -78\n",
      "Input marks of UE183008 for CS -89\n",
      "Input marks of UE183008 for RV -48\n",
      "Input marks of UE183008 for IP -56\n",
      "Input marks of UE183009 for CS -78\n",
      "Input marks of UE183009 for RV -89\n",
      "Input marks of UE183009 for IP -78\n",
      "Input marks of UE183010 for CS -89\n",
      "Input marks of UE183010 for RV -78\n",
      "Input marks of UE183010 for IP -89\n",
      "Input marks of UE183011 for CS -78\n",
      "Input marks of UE183011 for RV -89\n",
      "Input marks of UE183011 for IP -45\n",
      "Input marks of UE183012 for CS -48\n",
      "Input marks of UE183012 for RV -86\n",
      "Input marks of UE183012 for IP -88\n",
      "Input marks of UE183013 for CS -88\n",
      "Input marks of UE183013 for RV -99\n",
      "Input marks of UE183013 for IP -77\n",
      "Avish 223\n",
      "Bhavya 188\n",
      "Tanya 245\n",
      "Rajat 251\n",
      "Ojasvi 212\n",
      "Nikhil 256\n",
      "Naman 175\n",
      "Rehan 193\n",
      "Prashant 245\n",
      "Rohit 256\n",
      "Vishal 222\n",
      "Vaibhav 264\n"
     ]
    }
   ],
   "source": [
    "from random import randint\n",
    "\n",
    "Student = { 'UE183001': 'Avish', 'UE183002': 'Bhavya', 'UE183003': 'Tanya', 'UE183004' : 'Rajat', 'UE183005' : 'Ojasvi',\n",
    "          'UE183006' : 'Nikhil', 'UE183007' : 'Naman', 'UE183008' : 'Rehan', 'UE183009' : 'Prashant', 'UE183010' : 'Rohit',\n",
    "          'UE183011' : 'Ojasvi', 'UE183012' : 'Vishal', 'UE183013' : 'Vaibhav'}\n",
    "\n",
    "Marks = []\n",
    "\n",
    "for i in range(1, 14):\n",
    "    if i < 10:\n",
    "        roll = 'UE18300' + str(i)\n",
    "    else:\n",
    "        roll = 'UE1830' + str(i)\n",
    "    sub = 'CS'\n",
    "    marks = int(input('Input marks of ' +roll +  ' for ' +  sub + ' -'))\n",
    "    Marks = Marks + [[roll, sub, marks]]\n",
    "    sub = 'RV'\n",
    "    marks = int(input('Input marks of ' +roll +  ' for ' +  sub + ' -'))\n",
    "    Marks = Marks + [[roll, sub, marks]]\n",
    "    sub = 'IP'\n",
    "    marks = int(input('Input marks of ' +roll +  ' for ' +  sub + ' -'))\n",
    "    Marks = Marks + [[roll, sub, marks]]\n",
    "\n",
    "total_marks = dict()\n",
    "for i in Marks:\n",
    "    if i[0] in total_marks.keys():\n",
    "        total_marks[i[0]] = total_marks[i[0]] + i[2]\n",
    "    else:\n",
    "        total_marks[i[0]] = i[2]\n",
    "        \n",
    "name_marks = dict()\n",
    "for i in Student:\n",
    "    if i in total_marks.keys():\n",
    "        name_marks[Student[i]] = [i, total_marks[i]]\n",
    "    else:\n",
    "        name_marks[Student[i]] = [i, 0]\n",
    "\n",
    "for i in name_marks:\n",
    "    print(i, name_marks[i][1])"
   ]
  },
  {
   "cell_type": "markdown",
   "metadata": {},
   "source": [
    "#Q3 A date of the form 8-MAR-85 includes the name of the month, which must be translated to a number. Create a dict suitable for decoding month names to numbers. Create a function which uses string operations to split the date into 3 items using the \"-\" character. Translate the month, correct the year to include all of the digits.\n",
    "The function will accept a date in the \"dd-MMM-yy\" format and respond with a tuple of ( y , m , d )."
   ]
  },
  {
   "cell_type": "code",
   "execution_count": 28,
   "metadata": {},
   "outputs": [
    {
     "name": "stdout",
     "output_type": "stream",
     "text": [
      "(1985, 3, 8)\n",
      "(2018, 5, 15)\n"
     ]
    }
   ],
   "source": [
    "def date_tuple(date):\n",
    "    month = dict()\n",
    "    month['JAN'] = 1\n",
    "    month['FEB'] = 2\n",
    "    month['MAR'] = 3\n",
    "    month['APR'] = 4\n",
    "    month['MAY'] = 5\n",
    "    month['JUN'] = 6\n",
    "    month['JUL'] = 7\n",
    "    month['AUG'] = 8\n",
    "    month['SEP'] = 9\n",
    "    month['OCT'] = 10\n",
    "    month['NOV'] = 11 \n",
    "    month['DEC'] = 12\n",
    "    date_list = date.split('-')\n",
    "    y = int(date_list[2])\n",
    "    if y <= 19:\n",
    "        y = 2000 + y\n",
    "    else:\n",
    "        y = 1900 + y\n",
    "    m = month[date_list[1]]\n",
    "    d = int(date_list[0])\n",
    "    return (y, m, d)\n",
    "print(date_tuple('8-MAR-85'))\n",
    "print(date_tuple('15-MAY-18'))"
   ]
  },
  {
   "cell_type": "markdown",
   "metadata": {},
   "source": [
    "#Q4 Dice Odds. There are 36 possible combinations of two dice. A sim→ple pair of loops over range(6)+1 will enumerate all combinations. The sum of the two dice is more interesting than the actual combination. Create a dict of all combinations, using the sum of the two dice as the key. Each value in the dict should be a list of tuples; each tuple has the value of two dice. The general outline is something like the following:\n",
    "d= {}\n",
    "Loop with d1 from 1 to 6\n",
    "    Loop with d2 from 1 to 6\n",
    "        newTuple ← ( d1, d2 ) # create the tuple\n",
    "        oldList ← dictionary entry for sum d1+d2\n",
    "        newList ← oldList + newTuple\n",
    "        replace entry in dictionary with newList\n",
    "Loop over all values in the dictionary\n",
    "print the key and the length of the list"
   ]
  },
  {
   "cell_type": "code",
   "execution_count": 24,
   "metadata": {},
   "outputs": [
    {
     "name": "stdout",
     "output_type": "stream",
     "text": [
      "2    [(1, 1)]\n",
      "3    [(1, 2), (2, 1)]\n",
      "4    [(1, 3), (2, 2), (3, 1)]\n",
      "5    [(1, 4), (2, 3), (3, 2), (4, 1)]\n",
      "6    [(1, 5), (2, 4), (3, 3), (4, 2), (5, 1)]\n",
      "7    [(1, 6), (2, 5), (3, 4), (4, 3), (5, 2), (6, 1)]\n",
      "8    [(2, 6), (3, 5), (4, 4), (5, 3), (6, 2)]\n",
      "9    [(3, 6), (4, 5), (5, 4), (6, 3)]\n",
      "10    [(4, 6), (5, 5), (6, 4)]\n",
      "11    [(5, 6), (6, 5)]\n",
      "12    [(6, 6)]\n"
     ]
    }
   ],
   "source": [
    "d = {}\n",
    "for i in range(1, 7):\n",
    "    for j in range(1, 7):\n",
    "        s = i + j\n",
    "        if s in d.keys():\n",
    "            d[s] = d[s] + [(i, j)]\n",
    "        else:\n",
    "            d[s] = [(i, j)]\n",
    "for i in d:\n",
    "    print(i, '  ', d[i])"
   ]
  }
 ],
 "metadata": {
  "kernelspec": {
   "display_name": "Python 3",
   "language": "python",
   "name": "python3"
  },
  "language_info": {
   "codemirror_mode": {
    "name": "ipython",
    "version": 3
   },
   "file_extension": ".py",
   "mimetype": "text/x-python",
   "name": "python",
   "nbconvert_exporter": "python",
   "pygments_lexer": "ipython3",
   "version": "3.6.7"
  }
 },
 "nbformat": 4,
 "nbformat_minor": 2
}
